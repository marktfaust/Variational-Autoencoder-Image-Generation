{
  "nbformat": 4,
  "nbformat_minor": 0,
  "metadata": {
    "colab": {
      "provenance": [],
      "include_colab_link": true
    },
    "kernelspec": {
      "name": "python3",
      "display_name": "Python 3"
    },
    "language_info": {
      "name": "python"
    }
  },
  "cells": [
    {
      "cell_type": "markdown",
      "metadata": {
        "id": "view-in-github",
        "colab_type": "text"
      },
      "source": [
        "<a href=\"https://colab.research.google.com/github/marktfaust/Variational-Autoencoder-Image-Generation/blob/main/Mark_Faust_DL_homework5.ipynb\" target=\"_parent\"><img src=\"https://colab.research.google.com/assets/colab-badge.svg\" alt=\"Open In Colab\"/></a>"
      ]
    },
    {
      "cell_type": "markdown",
      "source": [
        "# Homework #5: Generating Images with a Variational Autoencoder (VAE)\n",
        "## 31 Total Points\n",
        "\n"
      ],
      "metadata": {
        "id": "coXLPdMfyqvd"
      }
    },
    {
      "cell_type": "markdown",
      "source": [
        "In this homework, we will again use the MNIST dataset of hand-written digits.  We will train a [variational autoencoder](https://en.wikipedia.org/wiki/Variational_autoencoder), a kind of [deep generative model](https://www.youtube.com/watch?v=XZ0PMRWXBEU), on this data.  You'll implement the code that defines the VAE class along with its functionality for forward computation and sampling.  Leave the training hyperparameters are their default configurations, as this represents a good balance between a clearly working implementation and reasonable computational overhead.\n",
        "\n",
        "Let's start by importing the usual libraries...."
      ],
      "metadata": {
        "id": "icUr3eLk-wlU"
      }
    },
    {
      "cell_type": "code",
      "execution_count": null,
      "metadata": {
        "id": "dzVmm7nWQ48O"
      },
      "outputs": [],
      "source": [
        "# For plotting\n",
        "import matplotlib.pyplot as plt\n",
        "\n",
        "# PyTorch\n",
        "import torch\n",
        "import torch.nn as nn\n",
        "import torch.nn.functional as F\n",
        "\n",
        "# PyTorch data utils\n",
        "from torchvision import datasets, transforms\n",
        "from torch.utils.data import DataLoader"
      ]
    },
    {
      "cell_type": "markdown",
      "source": [
        "## Load MNIST Data\n",
        "\n",
        "The MNIST dataset consists of handwritten digits as 28x28 grayscale images, normalized to [0, 1]."
      ],
      "metadata": {
        "id": "KPLotX59zZDT"
      }
    },
    {
      "cell_type": "code",
      "source": [
        "# -----------------------------\n",
        "# Load MNIST\n",
        "# -----------------------------\n",
        "transform = transforms.Compose([\n",
        "    transforms.ToTensor(),\n",
        "])\n",
        "dataset = datasets.MNIST(root='./data', train=True, download=True, transform=transform)\n",
        "dataloader = DataLoader(dataset, batch_size=128, shuffle=True)\n",
        "\n",
        "device = torch.device(\"cuda\" if torch.cuda.is_available() else \"cpu\")"
      ],
      "metadata": {
        "id": "4G-MAZJxRGzG"
      },
      "execution_count": null,
      "outputs": []
    },
    {
      "cell_type": "markdown",
      "source": [
        "Let's visualize a few images..."
      ],
      "metadata": {
        "id": "7fV1MxzczhmA"
      }
    },
    {
      "cell_type": "code",
      "source": [
        "# Visualize MNIST samples\n",
        "examples = next(iter(dataloader))[0][:16]\n",
        "fig, axes = plt.subplots(1, 16, figsize=(16, 1))\n",
        "for i in range(16):\n",
        "    axes[i].imshow(examples[i, 0], cmap='gray')\n",
        "    axes[i].axis('off')\n",
        "plt.suptitle(\"MNIST Images\")\n",
        "plt.show()"
      ],
      "metadata": {
        "id": "B9Ezjk3fTW0o"
      },
      "execution_count": null,
      "outputs": []
    },
    {
      "cell_type": "markdown",
      "source": [
        "## Encoder and Decoder  (12 Points)"
      ],
      "metadata": {
        "id": "jpJ1CS7XzqSr"
      }
    },
    {
      "cell_type": "markdown",
      "source": [
        "The first step is to implement the encoder and decoder.\n",
        "\n",
        "**Encoder:**\n",
        "We will treat the image as a flat vector of $D_x = 28*28 = 784$ dimensions.  You should implement this flattening operation yourself.  The encoder should then use a one-hidden-layer feedforward network to map the flattened input $\\mathbf{x} \\in \\mathbb{R}^{D_x}$ into a latent Normal distribution, outputting both the mean, $\\mathbf{\\mu} \\in \\mathbb{R}^{D_z} $, and log of the standard deviation $\\log \\mathbf{\\sigma} \\in \\mathbb{R}^{D_z}$, where $D_z$ is the user-specified dimensionality:\n",
        "$$\n",
        "\\mathbf{h} = \\text{ReLU}(W_1 \\mathbf{x} + b_1), \\quad\n",
        "\\boldsymbol{\\mu} = W_\\mu \\mathbf{h} + b_\\mu, \\quad  \\log \\boldsymbol{\\sigma} = W_{\\log\\sigma} \\mathbf{h} + b_{\\log\\sigma}\n",
        "$$\n",
        "\n",
        "These parameters define the approximate posterior for the local latent variable: $$q(\\mathbf{z}|\\mathbf{x}) = \\prod_{d=1}^{D_z} N\\left(z_d; \\mu_d, \\sigma_d \\right).$$\n"
      ],
      "metadata": {
        "id": "C3cyIiZDrVUP"
      }
    },
    {
      "cell_type": "code",
      "source": [
        "class Encoder(nn.Module):\n",
        "    \"\"\"\n",
        "    Encoder network for VAE. Takes in a batch of images and outputs mean and log-variance vectors.\n",
        "\n",
        "    Args:\n",
        "        latent_dim (int): Dimension of the latent space.\n",
        "    \"\"\"\n",
        "    def __init__(self, latent_dim, input_dim = 784, hid_dim = 400):\n",
        "        super().__init__()\n",
        "        self.input_dim = input_dim\n",
        "        self.latent_dim = latent_dim\n",
        "\n",
        "        ### YOUR SOLUTION GOES HERE ###  (3 Points)\n",
        "        # Define the necessary fully-connected transformations\n",
        "        ###############################\n",
        "\n",
        "    def forward(self, x):\n",
        "        \"\"\"\n",
        "        Forward pass of the encoder.\n",
        "\n",
        "        Inputs:\n",
        "          x (Tensor): Input batch of shape (batch_size, 1, 28, 28)\n",
        "        Returns:\n",
        "          mu (Tensor): Mean vector of shape (batch_size, latent_dim)\n",
        "          log_std (Tensor): Log-standard-deviation vector of shape (batch_size, latent_dim)\n",
        "        \"\"\"\n",
        "        ### YOUR SOLUTION GOES HERE ### ( 4 Points)\n",
        "        # Define the forward computation to compute the mean and log std.\n",
        "        return ???\n",
        "        ###############################"
      ],
      "metadata": {
        "id": "2D4vSv8pxTdg"
      },
      "execution_count": null,
      "outputs": []
    },
    {
      "cell_type": "markdown",
      "source": [
        "Now let's implement the decoder.\n",
        "\n",
        "**Decoder:** Takes the latent vector $ \\mathbf{z} $ as input and maps it back to image space via one hidden layer and logistic (sigmoid) output transformation:\n",
        "$$\n",
        "\\mathbf{h'} = \\text{ReLU}(W_2 \\mathbf{z} + b_2), \\quad \\mathbb{E}\\left[ \\mathbf{x} | \\mathbf{z} \\right] = \\text{sigmoid}(W_{\\text{out}} \\mathbf{h'} + b_{\\text{out}}).\n",
        "$$  Before returning $\\mathbb{E}\\left[ \\mathbf{x} | \\mathbf{z} \\right]$, be sure to re-size it from a vector to being a square matrix (28x28)."
      ],
      "metadata": {
        "id": "cnAoFvEfrQ3K"
      }
    },
    {
      "cell_type": "code",
      "source": [
        "class Decoder(nn.Module):\n",
        "    \"\"\"\n",
        "    Decoder network for VAE. Takes latent vectors and returns expected value of reconstructed image, E[X | Z].\n",
        "\n",
        "    Args:\n",
        "        latent_dim (int): Dimension of the latent space.\n",
        "    \"\"\"\n",
        "    def __init__(self, latent_dim, hid_dim = 400, output_dim = 784):\n",
        "        super().__init__()\n",
        "        self.latent_dim = latent_dim\n",
        "        self.output_dim = output_dim\n",
        "        ### YOUR SOLUTION GOES HERE ###  (2 Points)\n",
        "        # Define the necessary fully-connected transformations\n",
        "        ###############################\n",
        "\n",
        "    def forward(self, z):\n",
        "        \"\"\"\n",
        "        Forward pass of the decoder.\n",
        "\n",
        "        Inputs:\n",
        "          z (Tensor): Latent vector of shape (batch_size, latent_dim)\n",
        "        Returns:\n",
        "          x_recon (Tensor): Expected value of reconstructed image of shape (batch_size, 1, 28, 28)\n",
        "        \"\"\"\n",
        "        ### YOUR SOLUTION GOES HERE ###  (3 Points)\n",
        "        # Define the forward computation to compute E[X | Z]\n",
        "        return ???\n",
        "        ###############################"
      ],
      "metadata": {
        "id": "uc2_ZVaarNGw"
      },
      "execution_count": null,
      "outputs": []
    },
    {
      "cell_type": "markdown",
      "source": [
        "## Variational Autoencoder  (14 Points)"
      ],
      "metadata": {
        "id": "wRvKgYbdbDPC"
      }
    },
    {
      "cell_type": "markdown",
      "source": [
        "Given our encoder and decoder implementations above, we can now use them to define our variational autoencoder class.  Specifically, the VAE computation is as follows.  First we use the encoder to compute the mean and log standard deviation.\n",
        "$$ \\left\\{ \\mathbf{\\mu}, \\ \\log \\mathbf{\\sigma} \\right\\} \\ = \\ \\text{Encoder}(\\mathbf{x}). $$\n",
        "\n",
        "We then use the [reparameterization trick](https://gregorygundersen.com/blog/2018/04/29/reparameterization/) to compute the sample from the latent Normal distribution in a way that is ammendable to taking derivatives through it:\n",
        "$$ \\mathbf{\\hat{z}} \\ = \\ \\mathbf{\\mu} + \\exp\\left\\{ \\log \\mathbf{\\sigma} \\right\\} \\odot \\boldsymbol{\\epsilon}, \\ \\ \\ \\boldsymbol{\\epsilon} \\in \\mathbb{R}^{D_z}, \\ \\ \\ \\epsilon_d \\sim N(0,1)$$ where $\\boldsymbol{\\epsilon} \\in \\mathbb{R}^{D_z}$ is a $D_z$-dimensional sample from a standard normal distribution.  You may have seen this equation before as the normal distribution's [location-scale form](https://en.wikipedia.org/wiki/Location%E2%80%93scale_family).  This is also an application of the fact that the the space of [Normal distribution is closed under affine transformations](https://en.wikipedia.org/wiki/Multivariate_normal_distribution#Affine_transformation).\n",
        "\n",
        "Lastly, we use the decoder to compute the expected value of the observed variable $\\mathbf{x}$ given the latent variable $\\mathbf{z}$:\n",
        "$$ \\mathbb{E}\\left[\\mathbf{x} | \\mathbf{\\hat{z}}\\right] \\ = \\ \\text{Decoder}\\left( \\mathbf{\\hat{z}} \\right).$$\n",
        "\n",
        "After training, we will want to sample novel instances (in this case, images) from the VAE.  We can do this by passing in samples from a $D_z$-dimensional standard normal distribution directly into the decoder.  The decoder then outputs the mean of a Bernoulli distribution, which we then use to sample the final pixel values:\n",
        "$$ \\mathbf{\\hat{z}} \\ \\sim \\ N(0, \\mathbf{I}), \\quad \\quad \\mathbf{\\pi} \\  = \\ \\mathbb{E}\\left[\\mathbf{x} | \\mathbf{\\hat{z}}\\right] \\ =  \\  \\text{Decoder}(\\mathbf{\\hat{z}}), \\quad \\quad \\mathbf{\\hat{x}} \\ \\sim \\ \\text{Bernoulli}(\\mathbf{\\pi}). $$  Ideally, if our training went well, $\\mathbf{\\hat{x}}$ should look like an instance of the dataset of images on which we trained the data."
      ],
      "metadata": {
        "id": "iBXFMYUtTMRh"
      }
    },
    {
      "cell_type": "code",
      "source": [
        "class VAE(nn.Module):\n",
        "    \"\"\"\n",
        "    Variational Autoencoder (VAE) class that combines the encoder, decoder, and reparameterization.\n",
        "\n",
        "    Args:\n",
        "        latent_dim (int): Dimension of the latent space.\n",
        "    \"\"\"\n",
        "    def __init__(self, latent_dim):\n",
        "        super().__init__()\n",
        "        self.latent_dim = latent_dim\n",
        "        ### YOUR SOLUTION GOES HERE ###  (2 Points)\n",
        "        # define the encoder and decoder\n",
        "        ###############################\n",
        "\n",
        "\n",
        "    def reparameterize(self, mu, log_std):\n",
        "        \"\"\"\n",
        "        Applies the reparameterization trick to sample from N(mu, sigma).\n",
        "\n",
        "        Inputs:\n",
        "            mu (Tensor): Mean of the latent distribution.\n",
        "            log_std (Tensor): Log standard deviation of the latent distribution.\n",
        "\n",
        "        Returns:\n",
        "            Tensor: Sampled latent vector.\n",
        "        \"\"\"\n",
        "        ### YOUR SOLUTION GOES HERE ###  (3 Points)\n",
        "        # Implement the reparameterization trick for computing a sample of z ~ q(z | x)\n",
        "        return ???\n",
        "        ###############################\n",
        "\n",
        "\n",
        "    def forward(self, x):\n",
        "        \"\"\"\n",
        "        Forward pass of the VAE.\n",
        "\n",
        "        Inputs:\n",
        "            x (Tensor): Input\n",
        "            image batch of shape (batch_size, 1, 28, 28)\n",
        "\n",
        "        Returns:\n",
        "            x_recon (Tensor): Reconstructed images\n",
        "            mu (Tensor): Mean latent vectors\n",
        "            log_std (Tensor): Log-standard-deviation of latent vectors\n",
        "        \"\"\"\n",
        "        ### YOUR SOLUTION GOES HERE ###  (3 Points)\n",
        "        # Implement the forward computation to return E[X|Z] and the parameters of the latent distribution\n",
        "        return ???\n",
        "        ###############################\n",
        "\n",
        "\n",
        "    def sample(self, num_samples):\n",
        "        \"\"\"\n",
        "        Generates samples from the VAE.\n",
        "\n",
        "        Inputs:\n",
        "            num_samples (int): Number of samples to generate.\n",
        "\n",
        "        Returns:\n",
        "            Tensor: Sampled images of shape (num_samples, 1, 28, 28).\n",
        "        \"\"\"\n",
        "        ### YOUR SOLUTION GOES HERE ###  (3 Points)\n",
        "        # Sample z ~ N(0,1), pass it through the decoder, sample from Bernoulli\n",
        "        return ???\n",
        "        ###############################"
      ],
      "metadata": {
        "id": "dzHAtUWmRR5U"
      },
      "execution_count": null,
      "outputs": []
    },
    {
      "cell_type": "markdown",
      "source": [
        "Now we move on to computing the VAE's loss function, which is an implementation of the [evidence lower bound](https://en.wikipedia.org/wiki/Evidence_lower_bound).  It consists of two terms.  The first is the reconstruction loss, where we compute how well $\\mathbb{E}[\\mathbf{x} | \\mathbf{z}]$ matches the observed value $\\mathbf{x}_n$.\n",
        "$$\n",
        "-\\mathbb{E}_{q(\\mathbf{z}|\\mathbf{x}_n]}\\left[\\log p(\\mathbf{x}_n|\\mathbf{z})\\right] \\approx \\frac{1}{S} \\sum_{s=1}^{S} -\\log \\text{Bernoulli}\\left(\\mathbf{x}_n; \\boldsymbol{\\pi} = \\text{Decoder}\\left( \\mathbf{\\hat{z}_s} \\right) \\right) $$ $$ = \\ \\frac{1}{S} \\sum_{s=1}^{S} \\sum_{d=1}^{D_x} -\\log \\text{Bernoulli}\\left(x_{n,d}; \\pi_d = \\text{Decoder}_d\\left( \\mathbf{\\hat{z}} \\right) \\right).$$ where $\\text{Decoder}_d\\left( \\mathbf{\\hat{z}} \\right)$ denotes the $d$-th dimension of the decoder's output and $S$ is the number of times we sample the latent variable for the Monte Carlo approximation.  In practice, we use just one sample ($S=1$), and therefore the reconstruction loss becomes:\n",
        "$$ = \\sum_{d=1}^{D_x} - x_{n,d} \\log \\left\\{ \\text{Decoder}_d\\left( \\mathbf{\\hat{z}} \\right) \\right\\} - (1-x_{n,d}) \\log \\left\\{ 1 - \\text{Decoder}_d\\left( \\mathbf{\\hat{z}} \\right) \\right\\}. $$\n",
        "\n",
        "\n",
        "The second term is a regularization term that keeps the distributions output by the encoder close to some prior, which we will assume is $N(\\mathbf{0}, \\mathbf{I})$.  Using a normal distribution as both the prior and the posterior allows us to write an exact formula for the KL divergence ([here's the derivation](https://stats.stackexchange.com/questions/7440/kl-divergence-between-two-univariate-gaussians)), which simplifies to:\n",
        "$$\n",
        "\\mathbb{KL}\\left[ N(\\boldsymbol{\\mu}, \\text{diag}(\\boldsymbol{\\sigma}^2)) \\ \\| \\  N(0, \\mathbf{I}) \\right]\n",
        "\\ = \\ \\sum_{d=1}^{D_z} \\frac{1}{2}\\left( \\sigma_{d}^{2} + \\mu_{d}^{2} \\right) - \\log \\sigma_d - \\frac{1}{2}.\n",
        "$$\n",
        "\n",
        "Putting both terms together, we have the final loss function:\n",
        "$$\n",
        "\\sum_{n=1}^{N} \\sum_{d=1}^{D_x} - x_{n,d} \\log \\left\\{ \\text{Decoder}_d\\left( \\mathbf{\\hat{z}_n} \\right) \\right\\} - (1-x_{n,d}) \\log \\left\\{ 1 - \\text{Decoder}_d\\left( \\mathbf{\\hat{z}}_n \\right) \\right\\} \\ + \\ \\sum_{d=1}^{D_z} \\frac{1}{2}\\left( \\sigma_{n,d}^{2} + \\mu_{n,d}^{2} \\right) - \\log \\sigma_{n,d} - \\frac{1}{2}\n",
        "$$\n",
        "\n",
        "Implement this loss function below.  You can use a standard PyTorch function for the reconstruction loss, but for the KL divergence, you should implement this yourself directly in 'raw' PyTorch."
      ],
      "metadata": {
        "id": "UwFWlfrtbK4W"
      }
    },
    {
      "cell_type": "code",
      "source": [
        "def vae_loss(x_recon, x, mu, log_std):\n",
        "    \"\"\"\n",
        "    Computes the loss for the VAE: reconstruction + KL divergence.\n",
        "\n",
        "    Inputs:\n",
        "        x_recon (Tensor): Reconstructed images.\n",
        "        x (Tensor): Original input images.\n",
        "        mu (Tensor): Mean from encoder.\n",
        "        log_std (Tensor): Log standard deviation from encoder.\n",
        "\n",
        "    Returns:\n",
        "        loss (Tensor): Total VAE loss.\n",
        "    \"\"\"\n",
        "    ### YOUR SOLUTION GOES HERE ###  (3 Points)\n",
        "    # compute the recontruction loss, the KLD, and then combine them to return the final loss\n",
        "    return ???\n",
        "    ###############################"
      ],
      "metadata": {
        "id": "A78yxvUIbB-G"
      },
      "execution_count": null,
      "outputs": []
    },
    {
      "cell_type": "markdown",
      "source": [
        "## Train the VAE on MNIST and draw samples  (5 Points)"
      ],
      "metadata": {
        "id": "RJzPtioQcQ1c"
      }
    },
    {
      "cell_type": "markdown",
      "source": [
        "In the code below, most of the training loop has been implemented for you.  You just need to instantiate the VAE model, define the Adam optimizer, and compute the VAE loss.  Keep the hyperparameters at their defaults, you should observe the loss to be around $105 - 110$ after the 10th epoch."
      ],
      "metadata": {
        "id": "QPflfvF18z0I"
      }
    },
    {
      "cell_type": "code",
      "source": [
        "#-----------------------------\n",
        "# Train VAE\n",
        "# -----------------------------\n",
        "\n",
        "#### Hyperparameters ###\n",
        "# Keep these at the given values\n",
        "latent_dim = 20\n",
        "adam_step_size = 1e-3\n",
        "epochs = 10\n",
        "\n",
        "### YOUR SOLUTION GOES HERE ###  (2 Points)\n",
        "# define VAE model\n",
        "vae = ???\n",
        "\n",
        "# define optimizer\n",
        "optimizer = ???\n",
        "###############################\n",
        "\n",
        "# train VAE\n",
        "vae.train()\n",
        "for epoch in range(epochs):\n",
        "    total_loss = 0\n",
        "\n",
        "    for x, _ in dataloader:\n",
        "        x = x.to(device)\n",
        "\n",
        "        ### YOUR SOLUTION GOES HERE ###  (2 Points)\n",
        "        loss = ???\n",
        "        ###############################\n",
        "\n",
        "        optimizer.zero_grad()\n",
        "        loss.backward()\n",
        "        optimizer.step()\n",
        "\n",
        "        total_loss += loss.item()\n",
        "    print(f\"Epoch {epoch+1}, Loss: {total_loss / len(dataloader.dataset):.2f}\")"
      ],
      "metadata": {
        "id": "ZrxdrsPIRlfI"
      },
      "execution_count": null,
      "outputs": []
    },
    {
      "cell_type": "markdown",
      "source": [
        "Now we can draw samples from the model.  If your implementation is correct, the samples should look qualitatively similar to these ones:\n",
        "![example_samples.png](data:image/png;base64,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)\n",
        "\n",
        "We didn't define a big enough VAE model nor train long enough to get clear digits back, but hopefully you can see that they are a fuzzy version of the MNIST digits we visualized above.  Feel free to train longer or use a bigger model to try to improve the results, but it's not necessary.\n"
      ],
      "metadata": {
        "id": "hTYr-ohJftqj"
      }
    },
    {
      "cell_type": "code",
      "source": [
        "# -----------------------------\n",
        "# Show Samples from VAE\n",
        "# -----------------------------\n",
        "n_samples = 16\n",
        "\n",
        "# make sure the model is in evalution mode\n",
        "vae.eval()\n",
        "\n",
        "### YOUR SOLUTION GOES HERE ### (1 Point)\n",
        "samples = ???\n",
        "###############################\n",
        "\n",
        "fig, axes = plt.subplots(1, n_samples, figsize=(n_samples, 1.5))\n",
        "for i in range(n_samples):\n",
        "    axes[i].imshow(samples[i, 0], cmap='gray')\n",
        "    axes[i].axis('off')\n",
        "\n",
        "plt.suptitle(\"MNIST Samples from VAE\")\n",
        "plt.show()"
      ],
      "metadata": {
        "id": "W7db8dC4Rhi-"
      },
      "execution_count": null,
      "outputs": []
    },
    {
      "cell_type": "markdown",
      "source": [
        "## Uploading your Solution\n",
        "\n",
        "Turn in your solution via Gradescope (accessed through Canvas).  You need to upload *two* files to two different assignment pages within Gradescope:\n",
        "*   a PDF of your code and solutions as shown in the notebook.  You can generate it via File > Print > Save as PDF.  Make sure all of your code and plotting cells are visible.\n",
        "*   a Python file (file.py).  You can export one from the notebook via File > Download > Download .py."
      ],
      "metadata": {
        "id": "KJTJM6OdC49A"
      }
    }
  ]
}